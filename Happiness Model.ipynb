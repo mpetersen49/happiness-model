{
 "cells": [
  {
   "cell_type": "code",
   "execution_count": null,
   "metadata": {},
   "outputs": [],
   "source": [
    "#import statements\n",
    "import os\n",
    "import pandas as pd\n",
    "import numpy as np"
   ]
  },
  {
   "cell_type": "code",
   "execution_count": null,
   "metadata": {},
   "outputs": [],
   "source": [
    "#pull excel files into list to iterate over\n",
    "path_csv = os.getcwd() +\"/Resources\"\n",
    "files_csv = os.listdir(path_csv)\n",
    "\n",
    "file_df = {};\n",
    "for f in files_csv:\n",
    "    filename = os.path.splitext(f)[0];\n",
    "    filepath = path_csv+'/'+f\n",
    "    file_df[filename] = pd.read_csv(filepath);       \n",
    "    "
   ]
  },
  {
   "cell_type": "code",
   "execution_count": null,
   "metadata": {},
   "outputs": [],
   "source": [
    "file_df['2020'].head()"
   ]
  },
  {
   "cell_type": "code",
   "execution_count": null,
   "metadata": {},
   "outputs": [],
   "source": [
    "happy_df = pd.DataFrame()\n",
    "happy_df = happy_df.iloc[0:0]"
   ]
  },
  {
   "cell_type": "code",
   "execution_count": null,
   "metadata": {},
   "outputs": [],
   "source": [
    "file_df['2015'].rename(columns=\n",
    "                       {'Country':'Country'\n",
    "                        ,'Happiness Score': 'HappyScore'\n",
    "                        ,'Economy (GDP per Capita)': 'GDP'\n",
    "                        , 'Family': 'SocialSupport'\n",
    "                        , 'Health (Life Expectancy)' : 'Health'\n",
    "                        , 'Freedom': 'Freedom'\n",
    "                        , 'Trust (Government Corruption)' :'GovtTrust'\n",
    "                        , 'Generosity' : 'Generosity'\n",
    "                       }, inplace=True)\n",
    "\n",
    "file_df['2015']['Year'] = '2015'\n",
    "df_2015 = file_df['2015'][['Year','Country', 'HappyScore', 'GDP', 'SocialSupport', 'Health', 'Freedom', 'GovtTrust', 'Generosity']]\n",
    "\n",
    "df_2015"
   ]
  },
  {
   "cell_type": "code",
   "execution_count": null,
   "metadata": {},
   "outputs": [],
   "source": [
    "file_df['2016'].head()\n",
    "\n",
    "file_df['2016'].rename(columns=\n",
    "                       {'Country':'Country'\n",
    "                        ,'Happiness Score': 'HappyScore'\n",
    "                        ,'Economy (GDP per Capita)': 'GDP'\n",
    "                        , 'Family': 'SocialSupport'\n",
    "                        , 'Health (Life Expectancy)' : 'Health'\n",
    "                        , 'Freedom': 'Freedom'\n",
    "                        , 'Trust (Government Corruption)' :'GovtTrust'\n",
    "                        , 'Generosity' : 'Generosity'\n",
    "                       }, inplace=True)\n",
    "\n",
    "file_df['2016']['Year'] = '2016'\n",
    "df_2016 = file_df['2016'][['Year','Country','HappyScore', 'GDP', 'SocialSupport', 'Health', 'Freedom', 'GovtTrust', 'Generosity']]\n",
    "\n",
    "df_2016"
   ]
  },
  {
   "cell_type": "code",
   "execution_count": null,
   "metadata": {},
   "outputs": [],
   "source": [
    "file_df['2017'].rename(columns=\n",
    "                       {'Country':'Country'\n",
    "                        ,'Happiness.Score': 'HappyScore'\n",
    "                        ,'Economy..GDP.per.Capita.': 'GDP'\n",
    "                        , 'Family': 'SocialSupport'\n",
    "                        , 'Health..Life.Expectancy.' : 'Health'\n",
    "                        , 'Freedom': 'Freedom'\n",
    "                        , 'Trust..Government.Corruption.' :'GovtTrust'\n",
    "                        , 'Generosity' : 'Generosity'\n",
    "                       }, inplace=True)\n",
    "\n",
    "file_df['2017']['Year'] = '2017'\n",
    "df_2017 = file_df['2017'][['Year','Country', 'HappyScore', 'GDP', 'SocialSupport', 'Health', 'Freedom', 'GovtTrust', 'Generosity']]\n",
    "\n",
    "df_2017"
   ]
  },
  {
   "cell_type": "code",
   "execution_count": null,
   "metadata": {},
   "outputs": [],
   "source": [
    "file_df['2018'].rename(columns=\n",
    "                       {'Country or region':'Country'\n",
    "                        ,'Score': 'HappyScore'\n",
    "                        ,'GDP per capita': 'GDP'\n",
    "                        , 'Social support': 'SocialSupport'\n",
    "                        , 'Healthy life expectancy' : 'Health'\n",
    "                        , 'Freedom to make life choices': 'Freedom'\n",
    "                        , 'Perceptions of corruption' :'GovtTrust'\n",
    "                        , 'Generosity' : 'Generosity'\n",
    "                       }, inplace=True)\n",
    "\n",
    "file_df['2018']['Year'] = '2018'\n",
    "df_2018 = file_df['2018'][['Year','Country', 'HappyScore', 'GDP', 'SocialSupport', 'Health', 'Freedom', 'GovtTrust', 'Generosity']]\n",
    "\n",
    "df_2018"
   ]
  },
  {
   "cell_type": "code",
   "execution_count": null,
   "metadata": {},
   "outputs": [],
   "source": [
    "file_df['2019'].rename(columns=\n",
    "                       {'Country or region':'Country'\n",
    "                        ,'Score': 'HappyScore'\n",
    "                        ,'GDP per capita': 'GDP'\n",
    "                        , 'Social support': 'SocialSupport'\n",
    "                        , 'Healthy life expectancy' : 'Health'\n",
    "                        , 'Freedom to make life choices': 'Freedom'\n",
    "                        , 'Perceptions of corruption' :'GovtTrust'\n",
    "                        , 'Generosity' : 'Generosity'\n",
    "                       }, inplace=True)\n",
    "\n",
    "file_df['2019']['Year'] = '2019'\n",
    "df_2019 = file_df['2019'][['Year','Country', 'HappyScore', 'GDP', 'SocialSupport', 'Health', 'Freedom', 'GovtTrust', 'Generosity']]\n",
    "\n",
    "df_2019"
   ]
  },
  {
   "cell_type": "code",
   "execution_count": null,
   "metadata": {},
   "outputs": [],
   "source": [
    "file_df['2020'].rename(columns=\n",
    "                       {'Country name':'Country'\n",
    "                        ,'Ladder score': 'HappyScore'\n",
    "                        ,'Logged GDP per capita': 'GDP'\n",
    "                        , 'Social support': 'SocialSupport'\n",
    "                        , 'Healthy life expectancy' : 'Health'\n",
    "                        , 'Freedom to make life choices': 'Freedom'\n",
    "                        , 'Perceptions of corruption' :'GovtTrust'\n",
    "                        , 'Generosity' : 'Generosity'\n",
    "                       }, inplace=True)\n",
    "\n",
    "file_df['2020']['Year'] = '2020'\n",
    "df_2020 = file_df['2020'][['Year','Country', 'HappyScore', 'GDP', 'SocialSupport', 'Health', 'Freedom', 'GovtTrust', 'Generosity']]\n",
    "\n",
    "df_2020"
   ]
  },
  {
   "cell_type": "code",
   "execution_count": null,
   "metadata": {},
   "outputs": [],
   "source": [
    "happy_df = pd.concat([df_2015, df_2016, df_2017, df_2018, df_2019, df_2020])\n",
    "\n",
    "happy_df.to_csv(path_csv+'/'+'HappinessModelData.csv')"
   ]
  }
 ],
 "metadata": {
  "kernelspec": {
   "display_name": "Python 3",
   "language": "python",
   "name": "python3"
  },
  "language_info": {
   "codemirror_mode": {
    "name": "ipython",
    "version": 3
   },
   "file_extension": ".py",
   "mimetype": "text/x-python",
   "name": "python",
   "nbconvert_exporter": "python",
   "pygments_lexer": "ipython3",
   "version": "3.6.10"
  }
 },
 "nbformat": 4,
 "nbformat_minor": 4
}
