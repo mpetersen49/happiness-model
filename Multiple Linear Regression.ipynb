{
 "cells": [
  {
   "cell_type": "code",
   "execution_count": 1,
   "metadata": {},
   "outputs": [],
   "source": [
    "%matplotlib inline\n",
    "import matplotlib.pyplot as plt\n",
    "import numpy as np\n",
    "import pandas as pd"
   ]
  },
  {
   "cell_type": "code",
   "execution_count": 2,
   "metadata": {},
   "outputs": [
    {
     "data": {
      "text/html": [
       "<div>\n",
       "<style scoped>\n",
       "    .dataframe tbody tr th:only-of-type {\n",
       "        vertical-align: middle;\n",
       "    }\n",
       "\n",
       "    .dataframe tbody tr th {\n",
       "        vertical-align: top;\n",
       "    }\n",
       "\n",
       "    .dataframe thead th {\n",
       "        text-align: right;\n",
       "    }\n",
       "</style>\n",
       "<table border=\"1\" class=\"dataframe\">\n",
       "  <thead>\n",
       "    <tr style=\"text-align: right;\">\n",
       "      <th></th>\n",
       "      <th>Unnamed: 0</th>\n",
       "      <th>Year</th>\n",
       "      <th>Country</th>\n",
       "      <th>HappyScore</th>\n",
       "      <th>GDP</th>\n",
       "      <th>SocialSupport</th>\n",
       "      <th>Health</th>\n",
       "      <th>Freedom</th>\n",
       "      <th>GovtTrust</th>\n",
       "      <th>Generosity</th>\n",
       "    </tr>\n",
       "  </thead>\n",
       "  <tbody>\n",
       "    <tr>\n",
       "      <th>0</th>\n",
       "      <td>0</td>\n",
       "      <td>2015</td>\n",
       "      <td>Switzerland</td>\n",
       "      <td>7.587</td>\n",
       "      <td>1.39651</td>\n",
       "      <td>1.34951</td>\n",
       "      <td>0.94143</td>\n",
       "      <td>0.66557</td>\n",
       "      <td>0.41978</td>\n",
       "      <td>0.29678</td>\n",
       "    </tr>\n",
       "    <tr>\n",
       "      <th>1</th>\n",
       "      <td>1</td>\n",
       "      <td>2015</td>\n",
       "      <td>Iceland</td>\n",
       "      <td>7.561</td>\n",
       "      <td>1.30232</td>\n",
       "      <td>1.40223</td>\n",
       "      <td>0.94784</td>\n",
       "      <td>0.62877</td>\n",
       "      <td>0.14145</td>\n",
       "      <td>0.43630</td>\n",
       "    </tr>\n",
       "    <tr>\n",
       "      <th>2</th>\n",
       "      <td>2</td>\n",
       "      <td>2015</td>\n",
       "      <td>Denmark</td>\n",
       "      <td>7.527</td>\n",
       "      <td>1.32548</td>\n",
       "      <td>1.36058</td>\n",
       "      <td>0.87464</td>\n",
       "      <td>0.64938</td>\n",
       "      <td>0.48357</td>\n",
       "      <td>0.34139</td>\n",
       "    </tr>\n",
       "    <tr>\n",
       "      <th>3</th>\n",
       "      <td>3</td>\n",
       "      <td>2015</td>\n",
       "      <td>Norway</td>\n",
       "      <td>7.522</td>\n",
       "      <td>1.45900</td>\n",
       "      <td>1.33095</td>\n",
       "      <td>0.88521</td>\n",
       "      <td>0.66973</td>\n",
       "      <td>0.36503</td>\n",
       "      <td>0.34699</td>\n",
       "    </tr>\n",
       "    <tr>\n",
       "      <th>4</th>\n",
       "      <td>4</td>\n",
       "      <td>2015</td>\n",
       "      <td>Canada</td>\n",
       "      <td>7.427</td>\n",
       "      <td>1.32629</td>\n",
       "      <td>1.32261</td>\n",
       "      <td>0.90563</td>\n",
       "      <td>0.63297</td>\n",
       "      <td>0.32957</td>\n",
       "      <td>0.45811</td>\n",
       "    </tr>\n",
       "  </tbody>\n",
       "</table>\n",
       "</div>"
      ],
      "text/plain": [
       "   Unnamed: 0  Year      Country  HappyScore      GDP  SocialSupport   Health  \\\n",
       "0           0  2015  Switzerland       7.587  1.39651        1.34951  0.94143   \n",
       "1           1  2015      Iceland       7.561  1.30232        1.40223  0.94784   \n",
       "2           2  2015      Denmark       7.527  1.32548        1.36058  0.87464   \n",
       "3           3  2015       Norway       7.522  1.45900        1.33095  0.88521   \n",
       "4           4  2015       Canada       7.427  1.32629        1.32261  0.90563   \n",
       "\n",
       "   Freedom  GovtTrust  Generosity  \n",
       "0  0.66557    0.41978     0.29678  \n",
       "1  0.62877    0.14145     0.43630  \n",
       "2  0.64938    0.48357     0.34139  \n",
       "3  0.66973    0.36503     0.34699  \n",
       "4  0.63297    0.32957     0.45811  "
      ]
     },
     "execution_count": 2,
     "metadata": {},
     "output_type": "execute_result"
    }
   ],
   "source": [
    "# read CSV file into a pandas DataFrame\n",
    "\n",
    "happiness_report = pd.read_csv('Resources/HappinessModelData.csv')\n",
    "happiness_report.head()"
   ]
  },
  {
   "cell_type": "code",
   "execution_count": 3,
   "metadata": {},
   "outputs": [
    {
     "data": {
      "text/html": [
       "<div>\n",
       "<style scoped>\n",
       "    .dataframe tbody tr th:only-of-type {\n",
       "        vertical-align: middle;\n",
       "    }\n",
       "\n",
       "    .dataframe tbody tr th {\n",
       "        vertical-align: top;\n",
       "    }\n",
       "\n",
       "    .dataframe thead th {\n",
       "        text-align: right;\n",
       "    }\n",
       "</style>\n",
       "<table border=\"1\" class=\"dataframe\">\n",
       "  <thead>\n",
       "    <tr style=\"text-align: right;\">\n",
       "      <th></th>\n",
       "      <th>Unnamed: 0</th>\n",
       "      <th>Year</th>\n",
       "      <th>HappyScore</th>\n",
       "      <th>GDP</th>\n",
       "      <th>SocialSupport</th>\n",
       "      <th>Health</th>\n",
       "      <th>Freedom</th>\n",
       "      <th>GovtTrust</th>\n",
       "      <th>Generosity</th>\n",
       "    </tr>\n",
       "  </thead>\n",
       "  <tbody>\n",
       "    <tr>\n",
       "      <th>count</th>\n",
       "      <td>934.000000</td>\n",
       "      <td>934.000000</td>\n",
       "      <td>934.000000</td>\n",
       "      <td>934.000000</td>\n",
       "      <td>934.000000</td>\n",
       "      <td>934.000000</td>\n",
       "      <td>934.000000</td>\n",
       "      <td>934.000000</td>\n",
       "      <td>934.000000</td>\n",
       "    </tr>\n",
       "    <tr>\n",
       "      <th>mean</th>\n",
       "      <td>77.487152</td>\n",
       "      <td>2017.485011</td>\n",
       "      <td>5.392959</td>\n",
       "      <td>2.287469</td>\n",
       "      <td>1.034541</td>\n",
       "      <td>11.068956</td>\n",
       "      <td>0.472209</td>\n",
       "      <td>0.224981</td>\n",
       "      <td>0.180419</td>\n",
       "    </tr>\n",
       "    <tr>\n",
       "      <th>std</th>\n",
       "      <td>45.005506</td>\n",
       "      <td>1.709092</td>\n",
       "      <td>1.124630</td>\n",
       "      <td>3.163031</td>\n",
       "      <td>0.321271</td>\n",
       "      <td>23.809733</td>\n",
       "      <td>0.201976</td>\n",
       "      <td>0.254946</td>\n",
       "      <td>0.154060</td>\n",
       "    </tr>\n",
       "    <tr>\n",
       "      <th>min</th>\n",
       "      <td>0.000000</td>\n",
       "      <td>2015.000000</td>\n",
       "      <td>2.566900</td>\n",
       "      <td>0.000000</td>\n",
       "      <td>0.000000</td>\n",
       "      <td>0.000000</td>\n",
       "      <td>0.000000</td>\n",
       "      <td>0.000000</td>\n",
       "      <td>-0.300907</td>\n",
       "    </tr>\n",
       "    <tr>\n",
       "      <th>25%</th>\n",
       "      <td>39.000000</td>\n",
       "      <td>2016.000000</td>\n",
       "      <td>4.537500</td>\n",
       "      <td>0.694717</td>\n",
       "      <td>0.819287</td>\n",
       "      <td>0.508000</td>\n",
       "      <td>0.339463</td>\n",
       "      <td>0.061039</td>\n",
       "      <td>0.098123</td>\n",
       "    </tr>\n",
       "    <tr>\n",
       "      <th>50%</th>\n",
       "      <td>77.500000</td>\n",
       "      <td>2017.000000</td>\n",
       "      <td>5.350250</td>\n",
       "      <td>1.069659</td>\n",
       "      <td>1.035210</td>\n",
       "      <td>0.708139</td>\n",
       "      <td>0.465965</td>\n",
       "      <td>0.110800</td>\n",
       "      <td>0.182975</td>\n",
       "    </tr>\n",
       "    <tr>\n",
       "      <th>75%</th>\n",
       "      <td>116.000000</td>\n",
       "      <td>2019.000000</td>\n",
       "      <td>6.196500</td>\n",
       "      <td>1.395324</td>\n",
       "      <td>1.281355</td>\n",
       "      <td>0.892595</td>\n",
       "      <td>0.585893</td>\n",
       "      <td>0.285300</td>\n",
       "      <td>0.262000</td>\n",
       "    </tr>\n",
       "    <tr>\n",
       "      <th>max</th>\n",
       "      <td>157.000000</td>\n",
       "      <td>2020.000000</td>\n",
       "      <td>7.808700</td>\n",
       "      <td>11.450681</td>\n",
       "      <td>1.644000</td>\n",
       "      <td>76.804581</td>\n",
       "      <td>0.974998</td>\n",
       "      <td>0.935585</td>\n",
       "      <td>0.838075</td>\n",
       "    </tr>\n",
       "  </tbody>\n",
       "</table>\n",
       "</div>"
      ],
      "text/plain": [
       "       Unnamed: 0         Year  HappyScore         GDP  SocialSupport  \\\n",
       "count  934.000000   934.000000  934.000000  934.000000     934.000000   \n",
       "mean    77.487152  2017.485011    5.392959    2.287469       1.034541   \n",
       "std     45.005506     1.709092    1.124630    3.163031       0.321271   \n",
       "min      0.000000  2015.000000    2.566900    0.000000       0.000000   \n",
       "25%     39.000000  2016.000000    4.537500    0.694717       0.819287   \n",
       "50%     77.500000  2017.000000    5.350250    1.069659       1.035210   \n",
       "75%    116.000000  2019.000000    6.196500    1.395324       1.281355   \n",
       "max    157.000000  2020.000000    7.808700   11.450681       1.644000   \n",
       "\n",
       "           Health     Freedom   GovtTrust  Generosity  \n",
       "count  934.000000  934.000000  934.000000  934.000000  \n",
       "mean    11.068956    0.472209    0.224981    0.180419  \n",
       "std     23.809733    0.201976    0.254946    0.154060  \n",
       "min      0.000000    0.000000    0.000000   -0.300907  \n",
       "25%      0.508000    0.339463    0.061039    0.098123  \n",
       "50%      0.708139    0.465965    0.110800    0.182975  \n",
       "75%      0.892595    0.585893    0.285300    0.262000  \n",
       "max     76.804581    0.974998    0.935585    0.838075  "
      ]
     },
     "execution_count": 3,
     "metadata": {},
     "output_type": "execute_result"
    }
   ],
   "source": [
    "happiness_report.describe()"
   ]
  },
  {
   "cell_type": "code",
   "execution_count": 4,
   "metadata": {},
   "outputs": [
    {
     "name": "stdout",
     "output_type": "stream",
     "text": [
      "(934, 6) (934, 1)\n"
     ]
    }
   ],
   "source": [
    "#Assign the data to x and y\n",
    "\n",
    "X = happiness_report[[\"GDP\", \"SocialSupport\", \"Health\", \"Freedom\", \"GovtTrust\", \"Generosity\"]]\n",
    "y = happiness_report[\"HappyScore\"].values.reshape(-1,1)\n",
    "print(X.shape, y.shape)"
   ]
  },
  {
   "cell_type": "code",
   "execution_count": 5,
   "metadata": {},
   "outputs": [],
   "source": [
    "#use train_test_split to create training and testing data\n",
    "from sklearn.model_selection import train_test_split\n",
    "\n",
    "X_train, X_test, y_train, y_test = train_test_split(X, y, random_state = 50)"
   ]
  },
  {
   "cell_type": "code",
   "execution_count": 6,
   "metadata": {},
   "outputs": [],
   "source": [
    "#Create the model using LinearRegression\n",
    "\n",
    "from sklearn.linear_model import LinearRegression\n",
    "model = LinearRegression()"
   ]
  },
  {
   "cell_type": "code",
   "execution_count": 7,
   "metadata": {},
   "outputs": [
    {
     "name": "stdout",
     "output_type": "stream",
     "text": [
      "Training Score: 0.6138516414501787\n",
      "Testing Score: 0.7079280782120035\n"
     ]
    }
   ],
   "source": [
    "model.fit(X_train, y_train)\n",
    "training_score = model.score(X_train, y_train)\n",
    "testing_score = model.score(X_test, y_test)\n",
    "\n",
    "print(f\"Training Score: {training_score}\")\n",
    "print(f\"Testing Score: {testing_score}\")"
   ]
  },
  {
   "cell_type": "code",
   "execution_count": 8,
   "metadata": {},
   "outputs": [
    {
     "name": "stdout",
     "output_type": "stream",
     "text": [
      "R2 Score: 0.6395461701128571\n"
     ]
    }
   ],
   "source": [
    "#score the model\n",
    "score = model.score(X, y)\n",
    "print(f\"R2 Score: {score}\")"
   ]
  },
  {
   "cell_type": "code",
   "execution_count": 9,
   "metadata": {},
   "outputs": [
    {
     "data": {
      "text/plain": [
       "Text(0.5, 1.0, 'Residual Plot')"
      ]
     },
     "execution_count": 9,
     "metadata": {},
     "output_type": "execute_result"
    },
    {
     "data": {
      "image/png": "[encoded data removed]",
      "text/plain": [
       "<Figure size 432x288 with 1 Axes>"
      ]
     },
     "metadata": {
      "needs_background": "light"
     },
     "output_type": "display_data"
    }
   ],
   "source": [
    "#Plot the Residuals for the Training and Testing Data\n",
    "\n",
    "plt.scatter(model.predict(X_train), model.predict(X_train) - y_train, c=\"blue\", label=\"Training Data\")\n",
    "plt.scatter(model.predict(X_test), model.predict(X_test) - y_test, c=\"orange\", label=\"Testing Data\")\n",
    "plt.legend()\n",
    "plt.hlines(y=0, xmin=y.min(), xmax=y.max())\n",
    "plt.title(\"Residual Plot\")"
   ]
  },
  {
   "cell_type": "code",
   "execution_count": 10,
   "metadata": {},
   "outputs": [
    {
     "data": {
      "text/plain": [
       "LinearRegression()"
      ]
     },
     "execution_count": 10,
     "metadata": {},
     "output_type": "execute_result"
    }
   ],
   "source": [
    "reg = LinearRegression()\n",
    "reg.fit(X,y)"
   ]
  },
  {
   "cell_type": "code",
   "execution_count": 11,
   "metadata": {},
   "outputs": [],
   "source": [
    "Intercept = reg.intercept_\n",
    "Coefficients = reg.coef_"
   ]
  },
  {
   "cell_type": "code",
   "execution_count": 12,
   "metadata": {},
   "outputs": [
    {
     "data": {
      "text/plain": [
       "array([2.15845237])"
      ]
     },
     "execution_count": 12,
     "metadata": {},
     "output_type": "execute_result"
    }
   ],
   "source": [
    "Intercept"
   ]
  },
  {
   "cell_type": "code",
   "execution_count": 13,
   "metadata": {},
   "outputs": [
    {
     "data": {
      "text/plain": [
       "array([[ 1.09315964,  1.23950887, -0.14113336,  1.90002874, -0.22851338,\n",
       "         0.9312475 ]])"
      ]
     },
     "execution_count": 13,
     "metadata": {},
     "output_type": "execute_result"
    }
   ],
   "source": [
    "Coefficients"
   ]
  },
  {
   "cell_type": "markdown",
   "metadata": {},
   "source": [
    "Linear Regression Model: \n",
    "y = 2.1584x + 1.09315x1 + 1.2395x2 + -0.14113x3 + 1.9x4 + -0.22851x5 + 0.9312x6"
   ]
  },
  {
   "cell_type": "markdown",
   "metadata": {},
   "source": [
    "Quartiles: \n",
    "GDP: \n",
    "min: 0\n",
    "25%: .6947\n",
    "50%: 1.069659\n",
    "75%: 1.3953\n",
    "max: 11.450681 (probably an outlier)\n",
    "\n",
    "Social Support\n",
    "min: 0\n",
    "25%: .819287\n",
    "50%: 1.0352\n",
    "75%: 1.281355\n",
    "max: 1.644\n",
    "\n",
    "Health\n",
    "min: 0\n",
    "25%: .5080\n",
    "50%: .708139\n",
    "75%: .892595\n",
    "max: 76.804581 (probably an outlier)\n",
    "\n",
    "Freedom\n",
    "min: 0\n",
    "25%: .339463\n",
    "50%: .465965\n",
    "75%: .585893\n",
    "max: .974998\n",
    "\n",
    "GovtTrust\n",
    "min: 0\n",
    "25%: .061039\n",
    "50%: .1108\n",
    "75%: .2853\n",
    "max: .935585\n",
    "\n",
    "Genorosity\n",
    "min: -0.300907\n",
    "25%: .098123\n",
    "50%: .182975\n",
    "75%: .262\n",
    "max: .838075"
   ]
  },
  {
   "cell_type": "markdown",
   "metadata": {},
   "source": [
    "Overall Average Happiness Score: 5.392959"
   ]
  },
  {
   "cell_type": "code",
   "execution_count": 17,
   "metadata": {},
   "outputs": [
    {
     "name": "stdout",
     "output_type": "stream",
     "text": [
      "790\n"
     ]
    }
   ],
   "source": [
    "column = happiness_report[\"GDP\"]\n",
    "max_index = column.idxmax()\n",
    "print(max_index)"
   ]
  },
  {
   "cell_type": "code",
   "execution_count": null,
   "metadata": {},
   "outputs": [],
   "source": []
  }
 ],
 "metadata": {
  "kernelspec": {
   "display_name": "Python 3",
   "language": "python",
   "name": "python3"
  },
  "language_info": {
   "codemirror_mode": {
    "name": "ipython",
    "version": 3
   },
   "file_extension": ".py",
   "mimetype": "text/x-python",
   "name": "python",
   "nbconvert_exporter": "python",
   "pygments_lexer": "ipython3",
   "version": "3.6.10"
  }
 },
 "nbformat": 4,
 "nbformat_minor": 4
}
